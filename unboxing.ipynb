{
 "cells": [
  {
   "cell_type": "code",
   "execution_count": 3,
   "metadata": {},
   "outputs": [],
   "source": [
    "# 執行 - 也可切換內核至2再切回來\n",
    "# !pip install -r requirements.txt"
   ]
  },
  {
   "cell_type": "code",
   "execution_count": 1,
   "metadata": {},
   "outputs": [],
   "source": [
    "# 套件載入\n",
    "from google.cloud import bigquery\n",
    "from google.cloud import firestore\n",
    "import pandas\n",
    "from datetime import datetime\n",
    "import pytz"
   ]
  },
  {
   "cell_type": "code",
   "execution_count": 6,
   "metadata": {},
   "outputs": [],
   "source": [
    "# Query Box\n",
    "qryStrAll = \"\"\"\n",
    "DECLARE start_dtraceback_daynum INT64 DEFAULT -2;\n",
    "DECLARE end_traceback_daynum INT64 DEFAULT -1;\n",
    "DECLARE start_datetime DATETIME DEFAULT DATETIME(TIMESTAMP_ADD(CURRENT_TIMESTAMP(), INTERVAL start_dtraceback_daynum DAY), \"Asia/Taipei\");\n",
    "DECLARE end_datetime DATETIME DEFAULT DATETIME(TIMESTAMP_ADD(CURRENT_TIMESTAMP(), INTERVAL end_traceback_daynum DAY), \"Asia/Taipei\");\n",
    "\n",
    "\n",
    "with t as \n",
    "(\n",
    "select * \n",
    "FROM `momo-develop.boxSaver.regularQC_slipInfo`\n",
    "WHERE DATETIME(orderDate)\n",
    "BETWEEN start_datetime AND end_datetime \n",
    "\n",
    ")\n",
    "\n",
    "SELECT \n",
    "    STRING(TIMESTAMP(start_datetime)) as start_datetime,\n",
    "    STRING(TIMESTAMP(end_datetime)) as end_datetime,\n",
    "    COUNT(DISTINCT orderNo) AS order_count,\n",
    "    COUNT(DISTINCT slipNo) AS slip_count,\n",
    "    COUNT(DISTINCT IF(isBoxOut = 1, orderNo, NULL)) AS isBoxOut_count,\n",
    "(\n",
    "  select count(orderno)\n",
    "  from \n",
    "  (\n",
    "  select orderno,count(*) as slip_count \n",
    "  FROM t\n",
    "  WHERE isBoxOut <> 1 GROUP BY orderno \n",
    "  HAVING slip_count > 1\n",
    "  ) \n",
    ") as split_order_count\n",
    ",\n",
    "(\n",
    "  select sum(slip_count) \n",
    "  from \n",
    "  (\n",
    "  select orderno,count(*) as slip_count FROM t\n",
    "  WHERE isBoxOut <> 1 GROUP BY orderno \n",
    "  HAVING slip_count > 1\n",
    "  ) \n",
    ") as split_slip_count\n",
    "FROM t\n",
    "\"\"\""
   ]
  },
  {
   "cell_type": "code",
   "execution_count": 12,
   "metadata": {},
   "outputs": [],
   "source": [
    "def getSplitBox(self):\n",
    "    # 定義等待容器\n",
    "    # box = {}\n",
    "    # 定義 document\n",
    "    doc = datetime.now(pytz.timezone('Asia/Taipei')).strftime(\"%Y-%m-%d-%H-%M-%S\")\n",
    "    # 定義 DB\n",
    "    db = firestore.Client()\n",
    "    doc_ref = db.collection(u'unboxing').document(doc)\n",
    "        \n",
    "    bq_client = bigquery.Client()\n",
    "    query_job = bq_client.query(qryStrAll) # API request\n",
    "\n",
    "    print(query_job.result())\n",
    "    return query_job.result()\n",
    "#     rows_df = query_job.result().to_dataframe() # Waits for query to finish\n",
    "#     postdata = rows_df.to_dict('index')\n",
    "\n",
    "    # 寫入 DB    \n",
    "#     doc_ref.set(postdata[0])\n",
    "\n",
    "    "
   ]
  },
  {
   "cell_type": "code",
   "execution_count": 13,
   "metadata": {},
   "outputs": [
    {
     "name": "stdout",
     "output_type": "stream",
     "text": [
      "<google.cloud.bigquery.table.RowIterator object at 0x7f5ffc6c1208>\n"
     ]
    }
   ],
   "source": [
    "myData = getSplitBox('123')"
   ]
  },
  {
   "cell_type": "code",
   "execution_count": 20,
   "metadata": {},
   "outputs": [
    {
     "ename": "TypeError",
     "evalue": "'int' object is not callable",
     "output_type": "error",
     "traceback": [
      "\u001b[0;31m---------------------------------------------------------------------------\u001b[0m",
      "\u001b[0;31mTypeError\u001b[0m                                 Traceback (most recent call last)",
      "\u001b[0;32m<ipython-input-20-969663d66fc2>\u001b[0m in \u001b[0;36m<module>\u001b[0;34m()\u001b[0m\n\u001b[0;32m----> 1\u001b[0;31m \u001b[0mprint\u001b[0m\u001b[0;34m(\u001b[0m\u001b[0mmyData\u001b[0m\u001b[0;34m.\u001b[0m\u001b[0mnum_results\u001b[0m\u001b[0;34m(\u001b[0m\u001b[0;34m)\u001b[0m\u001b[0;34m)\u001b[0m\u001b[0;34m\u001b[0m\u001b[0m\n\u001b[0m",
      "\u001b[0;31mTypeError\u001b[0m: 'int' object is not callable"
     ]
    }
   ],
   "source": [
    "print(myData.)"
   ]
  },
  {
   "cell_type": "code",
   "execution_count": 64,
   "metadata": {},
   "outputs": [],
   "source": [
    "def getSplitBox(self):\n",
    "    # 定義等待容器\n",
    "    # box = {}\n",
    "    # 定義 document\n",
    "    doc = datetime.now(pytz.timezone('Asia/Taipei')).strftime(\"%Y-%m-%d-%H-%M-%S\")\n",
    "    # 定義 DB\n",
    "    db = firestore.Client()\n",
    "    doc_ref = db.collection(u'unboxing').document(doc)\n",
    "        \n",
    "    bq_client = bigquery.Client()\n",
    "    query_job = bq_client.query(qryStrAll) # API request\n",
    "\n",
    "    rows_df = query_job.result().to_dataframe() # Waits for query to finish\n",
    "    postdata = rows_df.to_dict('index')\n",
    "\n",
    "    # 寫入 DB    \n",
    "    doc_ref.set(postdata[0])\n",
    "\n",
    "    "
   ]
  },
  {
   "cell_type": "code",
   "execution_count": 65,
   "metadata": {},
   "outputs": [],
   "source": [
    "# 執行所有 qru\n",
    "# getSplitBox()\n",
    "\n",
    "# db = firestore.Client()\n",
    "# doc_ref = db.collection(u'unboxing').document(doc)\n",
    "# 寫入資料\n",
    "# doc_ref.set(box)\n"
   ]
  },
  {
   "cell_type": "code",
   "execution_count": 66,
   "metadata": {},
   "outputs": [],
   "source": [
    "#  測試用\n",
    "# getSplitBox(qryStr1)\n",
    "\n",
    "# Then query for documents\n",
    "# users_ref = db.collection(u'users')\n",
    "\n",
    "# for doc in users_ref.stream():\n",
    "#     print(u'{} => {}'.format(doc.id, doc.to_dict()))\n"
   ]
  }
 ],
 "metadata": {
  "kernelspec": {
   "display_name": "Python 3",
   "language": "python",
   "name": "python3"
  },
  "language_info": {
   "codemirror_mode": {
    "name": "ipython",
    "version": 3
   },
   "file_extension": ".py",
   "mimetype": "text/x-python",
   "name": "python",
   "nbconvert_exporter": "python",
   "pygments_lexer": "ipython3",
   "version": "3.5.6"
  }
 },
 "nbformat": 4,
 "nbformat_minor": 2
}
