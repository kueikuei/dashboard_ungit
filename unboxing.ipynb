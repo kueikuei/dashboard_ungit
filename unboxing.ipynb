{
 "cells": [
  {
   "cell_type": "code",
   "execution_count": 17,
   "metadata": {},
   "outputs": [],
   "source": [
    "# 套件載入\n",
    "from google.cloud import bigquery\n",
    "from google.cloud import firestore\n",
    "import pandas\n",
    "from datetime import datetime\n",
    "import pytz"
   ]
  },
  {
   "cell_type": "code",
   "execution_count": 18,
   "metadata": {},
   "outputs": [],
   "source": [
    "# 定義等待容器\n",
    "# box = {}\n",
    "# 定義 document\n",
    "doc = datetime.now(pytz.timezone('Asia/Taipei')).strftime(\"%Y-%m-%d-%H-%M-%S\")\n",
    "# 定義 DB\n",
    "db = firestore.Client()\n",
    "doc_ref = db.collection(u'unboxing').document(doc)\n"
   ]
  },
  {
   "cell_type": "code",
   "execution_count": 14,
   "metadata": {},
   "outputs": [],
   "source": [
    "# Query Box\n",
    "qryStrAll = \"\"\"\n",
    "DECLARE start_dtraceback_daynum INT64 DEFAULT -3;\n",
    "DECLARE end_traceback_daynum INT64 DEFAULT -2;\n",
    "DECLARE start_datetime DATETIME DEFAULT DATETIME(TIMESTAMP_ADD(CURRENT_TIMESTAMP(), INTERVAL start_dtraceback_daynum DAY), \"Asia/Taipei\");\n",
    "DECLARE end_datetime DATETIME DEFAULT DATETIME(TIMESTAMP_ADD(CURRENT_TIMESTAMP(), INTERVAL end_traceback_daynum DAY), \"Asia/Taipei\");\n",
    "\n",
    "\n",
    "with t as \n",
    "(\n",
    "select * \n",
    "FROM `momo-develop.boxSaver.regularQC_slipInfo`\n",
    "WHERE DATETIME(orderDate)\n",
    "BETWEEN start_datetime AND end_datetime \n",
    "\n",
    ")\n",
    "\n",
    "SELECT \n",
    "    STRING(TIMESTAMP(start_datetime)) as start_datetime,\n",
    "    STRING(TIMESTAMP(end_datetime)) as end_datetime,\n",
    "    COUNT(DISTINCT orderNo) AS order_count,\n",
    "    COUNT(DISTINCT slipNo) AS slip_count,\n",
    "    COUNT(DISTINCT IF(isBoxOut = 1, orderNo, NULL)) AS isBoxOut_count,\n",
    "(\n",
    "  select count(orderno)\n",
    "  from \n",
    "  (\n",
    "  select orderno,count(*) as slip_count \n",
    "  FROM t\n",
    "  WHERE isBoxOut <> 1 GROUP BY orderno \n",
    "  HAVING slip_count > 1\n",
    "  ) \n",
    ") as split_order_count\n",
    ",\n",
    "(\n",
    "  select sum(slip_count) \n",
    "  from \n",
    "  (\n",
    "  select orderno,count(*) as slip_count FROM t\n",
    "  WHERE isBoxOut <> 1 GROUP BY orderno \n",
    "  HAVING slip_count > 1\n",
    "  ) \n",
    ") as split_slip_count\n",
    "FROM t\n",
    "\"\"\""
   ]
  },
  {
   "cell_type": "code",
   "execution_count": 21,
   "metadata": {},
   "outputs": [],
   "source": [
    "!touch unboxing.py"
   ]
  },
  {
   "cell_type": "code",
   "execution_count": 19,
   "metadata": {},
   "outputs": [],
   "source": [
    "def getSplitBox(qryStr):\n",
    "    \n",
    "    # ref = db.reference('/'+col)\n",
    "    \n",
    "    bq_client = bigquaery.Client()\n",
    "    query_job = bq_client.query(qryStr) # API request\n",
    "\n",
    "    rows_df = query_job.result().to_dataframe() # Waits for query to finish\n",
    "    postdata = rows_df.to_dict('index')\n",
    "    \n",
    "    # 寫入 DB    \n",
    "    doc_ref.set(postdata[0])\n",
    "    "
   ]
  },
  {
   "cell_type": "code",
   "execution_count": 20,
   "metadata": {},
   "outputs": [
    {
     "name": "stdout",
     "output_type": "stream",
     "text": [
      "{0: {'start_datetime': '2019-12-28 13:31:51.936916+00', 'split_order_count': 20933, 'order_count': 41783, 'end_datetime': '2019-12-29 13:31:51.943646+00', 'slip_count': 51509, 'isBoxOut_count': 9409, 'split_slip_count': 93113}}\n"
     ]
    }
   ],
   "source": [
    "# 執行所有 qru\n",
    "getSplitBox(qryStrAll)\n",
    "\n",
    "# db = firestore.Client()\n",
    "# doc_ref = db.collection(u'unboxing').document(doc)\n",
    "# 寫入資料\n",
    "# doc_ref.set(box)\n"
   ]
  },
  {
   "cell_type": "code",
   "execution_count": 13,
   "metadata": {},
   "outputs": [],
   "source": [
    "#  測試用\n",
    "# getSplitBox(qryStr1)\n",
    "\n",
    "# Then query for documents\n",
    "# users_ref = db.collection(u'users')\n",
    "\n",
    "# for doc in users_ref.stream():\n",
    "#     print(u'{} => {}'.format(doc.id, doc.to_dict()))\n"
   ]
  }
 ],
 "metadata": {
  "kernelspec": {
   "display_name": "Python 3",
   "language": "python",
   "name": "python3"
  },
  "language_info": {
   "codemirror_mode": {
    "name": "ipython",
    "version": 3
   },
   "file_extension": ".py",
   "mimetype": "text/x-python",
   "name": "python",
   "nbconvert_exporter": "python",
   "pygments_lexer": "ipython3",
   "version": "3.5.6"
  }
 },
 "nbformat": 4,
 "nbformat_minor": 2
}
