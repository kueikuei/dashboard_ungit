{
 "cells": [
  {
   "cell_type": "code",
   "execution_count": 4,
   "metadata": {},
   "outputs": [],
   "source": [
    "from google.cloud import bigquery\n",
    "# from google.cloud import storage\n",
    "import pandas\n",
    "import firebase_admin\n",
    "from firebase_admin import db\n",
    "from datetime import datetime"
   ]
  },
  {
   "cell_type": "code",
   "execution_count": 13,
   "metadata": {},
   "outputs": [],
   "source": [
    "# -- 訂單數量\n",
    "qryStr1 = \"\"\"\n",
    "-- 訂單數量\n",
    "DECLARE start_dtraceback_daynum INT64 DEFAULT -3;\n",
    "DECLARE end_traceback_daynum INT64 DEFAULT -2;\n",
    "DECLARE start_datetime DATETIME DEFAULT DATETIME(TIMESTAMP_ADD(CURRENT_TIMESTAMP(), INTERVAL start_dtraceback_daynum DAY), \"Asia/Taipei\");\n",
    "DECLARE end_datetime DATETIME DEFAULT DATETIME(TIMESTAMP_ADD(CURRENT_TIMESTAMP(), INTERVAL end_traceback_daynum DAY), \"Asia/Taipei\");\n",
    "\n",
    "SELECT COUNT(DISTINCT orderNo) AS order_count\n",
    "FROM `momo-develop.boxSaver.regularQC_slipInfo`\n",
    "WHERE DATETIME(orderDate)\n",
    "BETWEEN start_datetime AND end_datetime\n",
    "\"\"\"\n",
    "\n",
    "def getSplitBox(qryStr):\n",
    "    \n",
    "    # ref = db.reference('/'+col)\n",
    "\n",
    "    bq_client = bigquery.Client()\n",
    "    query_job = bq_client.query(qryStr) # API request\n",
    "\n",
    "    rows_df = query_job.result().to_dataframe() # Waits for query to finish\n",
    "    postdata = rows_df.to_dict('index')\n",
    "    \n",
    "    print(postdata)\n",
    "\n",
    "#     ref = db.reference('/'+postdata[0]['start_datetime'])\n",
    "    # ref = db.reference('/'+'test2')\n",
    "\n",
    "#     ref.push(postdata)\n",
    "    # return rows_df\n",
    "def doAllQryStr(req):\n",
    "  # col 集合 - 目前時間紀錄\n",
    "  # 時間不能寫在外面，要寫在函式裡頭\n",
    "  # col = datetime.now().strftime(\"%d-%m-%Y-%H-%M-%S\")\n",
    "\n",
    "  getSplitBox(qryStr1)\n",
    "\n",
    "    \n",
    "    "
   ]
  },
  {
   "cell_type": "code",
   "execution_count": 14,
   "metadata": {},
   "outputs": [
    {
     "name": "stdout",
     "output_type": "stream",
     "text": [
      "{0: {'order_count': 45716}}\n"
     ]
    }
   ],
   "source": [
    "getSplitBox(qryStr1)"
   ]
  },
  {
   "cell_type": "code",
   "execution_count": null,
   "metadata": {},
   "outputs": [],
   "source": [
    "!ls"
   ]
  },
  {
   "cell_type": "code",
   "execution_count": null,
   "metadata": {},
   "outputs": [],
   "source": []
  }
 ],
 "metadata": {
  "kernelspec": {
   "display_name": "Python 3",
   "language": "python",
   "name": "python3"
  },
  "language_info": {
   "codemirror_mode": {
    "name": "ipython",
    "version": 3
   },
   "file_extension": ".py",
   "mimetype": "text/x-python",
   "name": "python",
   "nbconvert_exporter": "python",
   "pygments_lexer": "ipython3",
   "version": "3.5.6"
  }
 },
 "nbformat": 4,
 "nbformat_minor": 2
}
